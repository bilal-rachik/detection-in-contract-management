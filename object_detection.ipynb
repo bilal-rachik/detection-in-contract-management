{
  "nbformat": 4,
  "nbformat_minor": 0,
  "metadata": {
    "colab": {
      "name": "object-detection.ipynb",
      "provenance": [],
      "toc_visible": true,
      "mount_file_id": "1jvcTNH7jjx83i3unhPQAG45ucaaX7TxL",
      "authorship_tag": "ABX9TyOPsEkHwXekJwOnSEDDcnZw",
      "include_colab_link": true
    },
    "kernelspec": {
      "name": "python3",
      "display_name": "Python 3"
    },
    "accelerator": "GPU"
  },
  "cells": [
    {
      "cell_type": "markdown",
      "metadata": {
        "id": "view-in-github",
        "colab_type": "text"
      },
      "source": [
        "<a href=\"https://colab.research.google.com/github/bilal-rachik/detection-in-contract-management/blob/master/object_detection.ipynb\" target=\"_parent\"><img src=\"https://colab.research.google.com/assets/colab-badge.svg\" alt=\"Open In Colab\"/></a>"
      ]
    },
    {
      "cell_type": "code",
      "metadata": {
        "id": "UyWb51yQRRtW",
        "colab_type": "code",
        "colab": {}
      },
      "source": [
        "%tensorflow_version 2.x\n",
        "!pip uninstall -y tensorflow\n",
        "!pip install --upgrade --force-reinstall tensorflow-gpu==1.14"
      ],
      "execution_count": 0,
      "outputs": []
    },
    {
      "cell_type": "code",
      "metadata": {
        "id": "FeLw4bDv5D3o",
        "colab_type": "code",
        "colab": {}
      },
      "source": [
        "!pip install numpy==1.17"
      ],
      "execution_count": 0,
      "outputs": []
    },
    {
      "cell_type": "markdown",
      "metadata": {
        "id": "LnUmYmdRR-NM",
        "colab_type": "text"
      },
      "source": [
        "**Clonez le référentiel de modèles TensorFlow:**"
      ]
    },
    {
      "cell_type": "code",
      "metadata": {
        "id": "XCmaxe9uRaZq",
        "colab_type": "code",
        "colab": {}
      },
      "source": [
        "!git clone --quiet https://github.com/tensorflow/models.git"
      ],
      "execution_count": 0,
      "outputs": []
    },
    {
      "cell_type": "markdown",
      "metadata": {
        "id": "Cggalh_CSvS9",
        "colab_type": "text"
      },
      "source": [
        "**Compilation de Protobuf**\n",
        "L'API de détection d'objets Tensorflow utilise Protobufs pour configurer le modèle et les paramètres de formation. Avant que le framework puisse être utilisé, les bibliothèques Protobuf doivent être compilées. Pour ce faire, exécutez la commande suivante à partir du répertoire / models / research /:\n"
      ]
    },
    {
      "cell_type": "code",
      "metadata": {
        "id": "nd14FEJ5ACwC",
        "colab_type": "code",
        "colab": {}
      },
      "source": [
        "!pip install pycocotools"
      ],
      "execution_count": 0,
      "outputs": []
    },
    {
      "cell_type": "code",
      "metadata": {
        "id": "o5tOply2Vmvj",
        "colab_type": "code",
        "colab": {}
      },
      "source": [
        "%cd /content/models/research"
      ],
      "execution_count": 0,
      "outputs": []
    },
    {
      "cell_type": "code",
      "metadata": {
        "id": "9ZSD6OSORQbc",
        "colab_type": "code",
        "colab": {}
      },
      "source": [
        "!protoc object_detection/protos/*.proto --python_out=."
      ],
      "execution_count": 0,
      "outputs": []
    },
    {
      "cell_type": "markdown",
      "metadata": {
        "id": "Zwk5nepvv9LR",
        "colab_type": "text"
      },
      "source": [
        "Ajouter des bibliothèques à PYTHONPATH Lors de l'exécution locale, les répertoires tensorflow / models / research / et slim doivent être ajoutés à PYTHONPATH. Cela peut être fait en exécutant ce qui suit à partir de tensorflow / models / research /:"
      ]
    },
    {
      "cell_type": "code",
      "metadata": {
        "id": "rTle9p8dT6eo",
        "colab_type": "code",
        "colab": {}
      },
      "source": [
        "import os\n",
        "os.environ['PYTHONPATH'] += ':/content/models/research/:/content/models/research/slim'"
      ],
      "execution_count": 0,
      "outputs": []
    },
    {
      "cell_type": "code",
      "metadata": {
        "id": "xNxCwwICydZN",
        "colab_type": "code",
        "colab": {}
      },
      "source": [
        "%%bash \n",
        "pip install ."
      ],
      "execution_count": 0,
      "outputs": []
    },
    {
      "cell_type": "markdown",
      "metadata": {
        "id": "gkrtLz0fB3gU",
        "colab_type": "text"
      },
      "source": [
        "# Testez votre installation\n"
      ]
    },
    {
      "cell_type": "code",
      "metadata": {
        "id": "A6tqr2IKwMeq",
        "colab_type": "code",
        "colab": {}
      },
      "source": [
        "import numpy as np\n",
        "import os\n",
        "import six.moves.urllib as urllib\n",
        "import sys\n",
        "import tarfile\n",
        "import tensorflow as tf\n",
        "import zipfile\n",
        "\n",
        "from collections import defaultdict\n",
        "from io import StringIO\n",
        "from matplotlib import pyplot as plt\n",
        "from PIL import Image\n",
        "from IPython.display import display"
      ],
      "execution_count": 0,
      "outputs": []
    },
    {
      "cell_type": "markdown",
      "metadata": {
        "id": "JIqjjhwGB2-B",
        "colab_type": "text"
      },
      "source": [
        ""
      ]
    },
    {
      "cell_type": "code",
      "metadata": {
        "id": "zOvdxRiubKvP",
        "colab_type": "code",
        "colab": {}
      },
      "source": [
        "from object_detection.utils import ops as utils_ops\n",
        "from object_detection.utils import label_map_util\n",
        "from object_detection.utils import visualization_utils as vis_util"
      ],
      "execution_count": 0,
      "outputs": []
    },
    {
      "cell_type": "code",
      "metadata": {
        "id": "0B0TKt6nBA_W",
        "colab_type": "code",
        "colab": {}
      },
      "source": [
        "# patch tf1 into `utils.ops`\n",
        "utils_ops.tf = tf.compat.v1\n",
        "\n",
        "# Patch the location of gfile\n",
        "tf.gfile = tf.io.gfile"
      ],
      "execution_count": 0,
      "outputs": []
    },
    {
      "cell_type": "markdown",
      "metadata": {
        "id": "LB-ag1elEJz-",
        "colab_type": "text"
      },
      "source": [
        "\n",
        "\n",
        "Par défaut, nous utilisons ici un modèle \"SSD avec Mobilenet\". Consultez le zoo des modèles de détection pour obtenir une liste des autres modèles pouvant être exécutés immédiatement avec des vitesses et des précisions variables.\n",
        "# Loader"
      ]
    },
    {
      "cell_type": "code",
      "metadata": {
        "id": "nmvjh9pLBDdr",
        "colab_type": "code",
        "colab": {}
      },
      "source": [
        "def load_model(model_name):\n",
        "  base_url = 'http://download.tensorflow.org/models/object_detection/'\n",
        "  model_file = model_name + '.tar.gz'\n",
        "  model_dir = tf.keras.utils.get_file(\n",
        "    fname=model_name, \n",
        "    origin=base_url + model_file,\n",
        "    untar=True)\n",
        "\n",
        "  model_dir = pathlib.Path(model_dir)/\"saved_model\"\n",
        "\n",
        "  model = tf.saved_model.load(str(model_dir))\n",
        "  model = model.signatures['serving_default']\n",
        "\n",
        "  return model\n"
      ],
      "execution_count": 0,
      "outputs": []
    },
    {
      "cell_type": "markdown",
      "metadata": {
        "id": "P5tTEgNXEghC",
        "colab_type": "text"
      },
      "source": [
        "\n",
        "# Chargement de la carte d'étiquettes"
      ]
    },
    {
      "cell_type": "code",
      "metadata": {
        "id": "xM1BssPwCajY",
        "colab_type": "code",
        "colab": {}
      },
      "source": [
        "# List of the strings that is used to add correct label for each box.\n",
        "PATH_TO_LABELS = 'object_detection/data/mscoco_label_map.pbtxt'\n",
        "category_index = label_map_util.create_category_index_from_labelmap(PATH_TO_LABELS, use_display_name=True)"
      ],
      "execution_count": 0,
      "outputs": []
    },
    {
      "cell_type": "markdown",
      "metadata": {
        "id": "hEiP_7JmEvoW",
        "colab_type": "text"
      },
      "source": [
        "nous allons tester sur 2 images:"
      ]
    },
    {
      "cell_type": "code",
      "metadata": {
        "id": "WFBT6UGWClLL",
        "colab_type": "code",
        "colab": {}
      },
      "source": [
        "import pathlib\n",
        "# If you want to test the code with your images, just add path to the images to the TEST_IMAGE_PATHS.\n",
        "PATH_TO_TEST_IMAGES_DIR = pathlib.Path('object_detection/test_images')\n",
        "TEST_IMAGE_PATHS = sorted(list(PATH_TO_TEST_IMAGES_DIR.glob(\"*.jpg\")))\n",
        "TEST_IMAGE_PATHS"
      ],
      "execution_count": 0,
      "outputs": []
    },
    {
      "cell_type": "markdown",
      "metadata": {
        "id": "qRqlQDavE5v8",
        "colab_type": "text"
      },
      "source": [
        "# Detection\n",
        "\n",
        "Charger un modèle de détection d'objet:"
      ]
    },
    {
      "cell_type": "code",
      "metadata": {
        "id": "fIltVTPvE43I",
        "colab_type": "code",
        "colab": {}
      },
      "source": [
        "model_name = 'ssd_mobilenet_v1_coco_2017_11_17'\n",
        "detection_model = load_model(model_name)"
      ],
      "execution_count": 0,
      "outputs": []
    },
    {
      "cell_type": "markdown",
      "metadata": {
        "id": "Q80ppKbXFOIo",
        "colab_type": "text"
      },
      "source": [
        "\n",
        "Vérifiez la signature d'entrée du modèle, il attend un lot d'images en 3 couleurs de type uint8:"
      ]
    },
    {
      "cell_type": "code",
      "metadata": {
        "id": "Il6aXujbDCSD",
        "colab_type": "code",
        "colab": {}
      },
      "source": [
        "print(detection_model.inputs)"
      ],
      "execution_count": 0,
      "outputs": []
    },
    {
      "cell_type": "markdown",
      "metadata": {
        "id": "cYE-DsqZFf3O",
        "colab_type": "text"
      },
      "source": [
        "Ajoutez une fonction wrapper pour appeler le modèle et nettoyez les sorties:"
      ]
    },
    {
      "cell_type": "code",
      "metadata": {
        "id": "H4CgV1uYFnqe",
        "colab_type": "code",
        "colab": {}
      },
      "source": [
        "\n",
        "def run_inference_for_single_image(model, image):\n",
        "  image = np.asarray(image)\n",
        "  # The input needs to be a tensor, convert it using `tf.convert_to_tensor`.\n",
        "  input_tensor = tf.convert_to_tensor(image)\n",
        "  # The model expects a batch of images, so add an axis with `tf.newaxis`.\n",
        "  input_tensor = input_tensor[tf.newaxis,...]\n",
        "\n",
        "  # Run inference\n",
        "  output_dict = model(input_tensor)\n",
        "\n",
        "  # All outputs are batches tensors.\n",
        "  # Convert to numpy arrays, and take index [0] to remove the batch dimension.\n",
        "  # We're only interested in the first num_detections.\n",
        "  num_detections = int(output_dict.pop('num_detections'))\n",
        "  output_dict = {key:value[0, :num_detections].numpy() \n",
        "                 for key,value in output_dict.items()}\n",
        "  output_dict['num_detections'] = num_detections\n",
        "\n",
        "  # detection_classes should be ints.\n",
        "  output_dict['detection_classes'] = output_dict['detection_classes'].astype(np.int64)\n",
        "   \n",
        "  # Handle models with masks:\n",
        "  if 'detection_masks' in output_dict:\n",
        "    # Reframe the the bbox mask to the image size.\n",
        "    detection_masks_reframed = utils_ops.reframe_box_masks_to_image_masks(\n",
        "              output_dict['detection_masks'], output_dict['detection_boxes'],\n",
        "               image.shape[0], image.shape[1])      \n",
        "    detection_masks_reframed = tf.cast(detection_masks_reframed > 0.5,\n",
        "                                       tf.uint8)\n",
        "    output_dict['detection_masks_reframed'] = detection_masks_reframed.numpy()\n",
        "    \n",
        "  return output_dict"
      ],
      "execution_count": 0,
      "outputs": []
    },
    {
      "cell_type": "markdown",
      "metadata": {
        "id": "cf83R9OWFwFM",
        "colab_type": "text"
      },
      "source": [
        "\n",
        "Exécutez-le sur chaque image de test et affichez les résultats:"
      ]
    },
    {
      "cell_type": "code",
      "metadata": {
        "id": "SpB1E3bVFxbx",
        "colab_type": "code",
        "colab": {}
      },
      "source": [
        "def show_inference(model, image_path):\n",
        "  # the array based representation of the image will be used later in order to prepare the\n",
        "  # result image with boxes and labels on it.\n",
        "  image_np = np.array(Image.open(image_path))\n",
        "  # Actual detection.\n",
        "  output_dict = run_inference_for_single_image(model, image_np)\n",
        "  # Visualization of the results of a detection.\n",
        "  vis_util.visualize_boxes_and_labels_on_image_array(\n",
        "      image_np,\n",
        "      output_dict['detection_boxes'],\n",
        "      output_dict['detection_classes'],\n",
        "      output_dict['detection_scores'],\n",
        "      category_index,\n",
        "      instance_masks=output_dict.get('detection_masks_reframed', None),\n",
        "      use_normalized_coordinates=True,\n",
        "      line_thickness=8)\n",
        "\n",
        "  display(Image.fromarray(image_np))"
      ],
      "execution_count": 0,
      "outputs": []
    },
    {
      "cell_type": "code",
      "metadata": {
        "id": "didc_gb8F12e",
        "colab_type": "code",
        "colab": {}
      },
      "source": [
        "for image_path in TEST_IMAGE_PATHS:\n",
        "  show_inference(detection_model, image_path)"
      ],
      "execution_count": 0,
      "outputs": []
    },
    {
      "cell_type": "markdown",
      "metadata": {
        "id": "5YjR0BwyHxT3",
        "colab_type": "text"
      },
      "source": [
        "# Génération de TFRecords pour la formation\n",
        "\n",
        "Charger le dossier de workspace dans mon dépôt git sur votre drive\n"
      ]
    },
    {
      "cell_type": "code",
      "metadata": {
        "id": "kLlv8v4mJNvp",
        "colab_type": "code",
        "colab": {}
      },
      "source": [
        "workspace\n",
        "  | training_Faster_RCNN\n",
        "  │ ├─ annotations\n",
        "  │ ├─ images\n",
        "  │ │     ├─ test\n",
        "  │ │     └─ train\n",
        "  │ ├─ pre-trained-model\n",
        "  │ ├─ training\n",
        "  │ └─ README.md\n",
        "  ├─ xml_to_csv.py\n",
        "  ├─ partition_dataset.py\n",
        "  ├─ make_official_dataset.py\n",
        "  │─generate_tfrecord.py\n"
      ],
      "execution_count": 0,
      "outputs": []
    },
    {
      "cell_type": "markdown",
      "metadata": {
        "id": "CCx5s8zNKPTv",
        "colab_type": "text"
      },
      "source": [
        "L'API de détection d'objets TensorFlow ne prend pas les fichiers json ou xml en entrée, mais elle a besoin des fichiers TFRecord format pour former le modèle.\n",
        "\n",
        "Pour ce faire, cela depend de format que vous avez exportés vos actifs dans VOTT.\n",
        "\n",
        "* 1 VoTT (generic JSON schema) : il faut utiliser le script make_official_dataset.py Le make_official_dataset.py importe ..training_Faster_RCNN/images/detection-export.json où toutes les annotations de bbox sont stockées, et crée un ensemble de train et de test TFRrecords.\n",
        "\n",
        "Pour utiliser le script, en supposant que vous avez toutes vos images et detection-export.json fichier à l'intérieur training_Faster_RCNN\\images, exécutez simplement la commande suivante:\n",
        "\n",
        "\n",
        "\n"
      ]
    },
    {
      "cell_type": "code",
      "metadata": {
        "id": "A0PL-9M7m-Kx",
        "colab_type": "code",
        "colab": {}
      },
      "source": [
        "! cd /content/drive/My\\ Drive/my-project/workspace"
      ],
      "execution_count": 0,
      "outputs": []
    },
    {
      "cell_type": "code",
      "metadata": {
        "id": "3VEaSQvvj3bt",
        "colab_type": "code",
        "colab": {}
      },
      "source": [
        "python3 make_official_dataset.py --labels \"signature\" \"Handwrit\" \"intial\" --img_dir [PATH_TO_IMAGES_FOLDER]/images "
      ],
      "execution_count": 0,
      "outputs": []
    },
    {
      "cell_type": "markdown",
      "metadata": {
        "id": "_Et6LmU1j-21",
        "colab_type": "text"
      },
      "source": [
        "**format Pascal VOC**: il y a deux étapes:\n",
        "\n",
        "    *Conversion des *.xml fichiers individuels en un *.csv fichier unifié pour chaque ensemble de données.\n",
        "    \n",
        "    *Conversion des *.csv fichiers de chaque jeu de données en *.record fichiers (format TFRecord).\n",
        "\n",
        "Copiez maintenant 80% de votre fichier image dans le dossier images / train et  20% dans votre dossier de test\n",
        "\n",
        "Pour le  faire , en supposant que vous avez toutes vos images et *.xml fichiers à l'intérieur training_Faster_RCNN\\images, exécutez simplement la commande suivante:\n"
      ]
    },
    {
      "cell_type": "code",
      "metadata": {
        "id": "OnvClOSQmHj8",
        "colab_type": "code",
        "colab": {}
      },
      "source": [
        "! python partition_dataser.py -x -i training_Faster_RCNN\\images -r 0.2"
      ],
      "execution_count": 0,
      "outputs": []
    },
    {
      "cell_type": "markdown",
      "metadata": {
        "id": "2mAHxtZrmlQu",
        "colab_type": "text"
      },
      "source": [
        "## Maintenant, dans ce dossier, nous pouvons transformer vos fichiers XML en train_label.csv et test_label.csv en ouvrant la ligne de commande et en tapant:"
      ]
    },
    {
      "cell_type": "code",
      "metadata": {
        "id": "YzuuWLkRKOq_",
        "colab_type": "code",
        "colab": {}
      },
      "source": [
        "##Create train data**:\n",
        "!python xml_to_csv.py -i /content/drive/My\\ Drive/my-project/workspace/training_faster_rcnn/images/train -o /content/drive/My\\ Drive/my-project/workspace/training_faster_rcnn/annotations/train_labels.csv\n",
        "\n",
        "##Create test data:\n",
        "!python xml_to_csv.py -i /content/drive/My\\ Drive/my-project/workspace/training_faster_rcnn/images/test -o /content/drive/My\\ Drive/my-project/workspace/training_faster_rcnn/annotations/test_labels.csv"
      ],
      "execution_count": 0,
      "outputs": []
    },
    {
      "cell_type": "markdown",
      "metadata": {
        "id": "WK4gBgZfXXyr",
        "colab_type": "text"
      },
      "source": [
        "**générer les TFRecords en tapant**"
      ]
    },
    {
      "cell_type": "code",
      "metadata": {
        "id": "2MyNoRU_LBND",
        "colab_type": "code",
        "colab": {}
      },
      "source": [
        "!python generate_tfrecord.py  --csv_input=/content/drive/My\\ Drive/my-project/workspace/training_faster_rcnn/annotations/train_labels.csv --img_path=/content/drive/My\\ Drive/my-project/workspace/training_faster_rcnn/images/train  --output_path=/content/drive/My\\ Drive/my-project/workspace/training_faster_rcnn/annotations/train.record\n",
        "\n",
        "# Create test data:\n",
        "!python generate_tfrecord.py --csv_input=/content/drive/My\\ Drive/my-project/workspace/training_faster_rcnn/annotations/test_labels.csv --img_path=/content/drive/My\\ Drive/my-project/workspace/training_faster_rcnn/images/test --output_path=/content/drive/My\\ Drive/my-project/workspace/training_faster_rcnn/annotations/test.record"
      ],
      "execution_count": 0,
      "outputs": []
    },
    {
      "cell_type": "markdown",
      "metadata": {
        "id": "9gYJ20VxhVNW",
        "colab_type": "text"
      },
      "source": [
        "# Téléchargez le modèle Faster-RCNN-Inception-V2-COCO depuis le zoo modèle de TensorFlow¶"
      ]
    },
    {
      "cell_type": "code",
      "metadata": {
        "id": "_njKQQTphYCu",
        "colab_type": "code",
        "colab": {}
      },
      "source": [
        "#From training_Faster_faster_rcnn\\pre-trained-model\n",
        "%%bash \n",
        "cd /content/drive/My\\ Drive/my-project/workspace/training_faster_rcnn/pre-trained-model\n",
        "wget http://download.tensorflow.org/models/object_detection/faster_rcnn_inception_v2_coco_2018_01_28.tar.gz\n",
        "tar -zxvf faster_rcnn_inception_v2_coco_2018_01_28.tar.gz\n",
        "rm -r faster_rcnn_inception_v2_coco_2018_01_28.tar.gz"
      ],
      "execution_count": 0,
      "outputs": []
    },
    {
      "cell_type": "markdown",
      "metadata": {
        "id": "DrTwegTVnSp7",
        "colab_type": "text"
      },
      "source": [
        "## Former le modèle "
      ]
    },
    {
      "cell_type": "code",
      "metadata": {
        "id": "w76YoId_aEaQ",
        "colab_type": "code",
        "colab": {}
      },
      "source": [
        "%%bash \n",
        "cd /content/drive/My\\ Drive/my-project/workspace/training_faster_rcnn\n",
        "python model_main.py --alsologtostderr --model_dir=training/ --pipeline_config_path=/content/drive/My\\ Drive/my-project/workspace/training_faster_rcnn/training/faster_rcnn_inception_v2_pets.config\n"
      ],
      "execution_count": 0,
      "outputs": []
    },
    {
      "cell_type": "markdown",
      "metadata": {
        "id": "KPqUAUbdX0tr",
        "colab_type": "text"
      },
      "source": [
        "# Surveiller la progression de formation à l'aide de TensorBoard"
      ]
    },
    {
      "cell_type": "markdown",
      "metadata": {
        "id": "27xWfyvoLiJ4",
        "colab_type": "text"
      },
      "source": [
        ""
      ]
    },
    {
      "cell_type": "code",
      "metadata": {
        "id": "OWrq8DfPXj_0",
        "colab_type": "code",
        "colab": {}
      },
      "source": [
        "# Load the TensorBoard notebook extension\n",
        "%load_ext tensorboard"
      ],
      "execution_count": 0,
      "outputs": []
    },
    {
      "cell_type": "code",
      "metadata": {
        "id": "DCypxuYSX_3D",
        "colab_type": "code",
        "colab": {}
      },
      "source": [
        "%cd /content/drive/My\\ Drive/my-project/workspace/training_faster_rcnn"
      ],
      "execution_count": 0,
      "outputs": []
    },
    {
      "cell_type": "code",
      "metadata": {
        "id": "8GbIOD-9XvEd",
        "colab_type": "code",
        "colab": {}
      },
      "source": [
        "%tensorboard --logdir=training/"
      ],
      "execution_count": 0,
      "outputs": []
    },
    {
      "cell_type": "code",
      "metadata": {
        "id": "zj_9KSxAZ8F9",
        "colab_type": "code",
        "colab": {}
      },
      "source": [
        "import os\n",
        "import subprocess\n",
        "import json\n",
        "import time\n",
        "import requests\n",
        "def _get_ngrok_tunnel():\n",
        "    while True:\n",
        "        try:\n",
        "            tunnels_json = requests.get(\"http://localhost:4040/api/tunnels\").content\n",
        "            public_url = json.loads(tunnels_json)['tunnels'][0]['public_url']\n",
        "            return public_url\n",
        "        except Exception:\n",
        "            print(\"Can't get public url, retrying...\")\n",
        "            time.sleep(2)\n",
        "\n",
        "\n",
        "def _warmup_ngrok_tunnel(public_url):\n",
        "    while requests.get(public_url).status_code >= 500:\n",
        "        print(\"Tunnel is not ready, retrying...\")\n",
        "        time.sleep(2)\n",
        "\n",
        "\n",
        "def expose_port_on_colab(port):\n",
        "    os.system(\"apt-get install net-tools\")\n",
        "    # check that port is open\n",
        "    while not (\":{} \".format(port) in str(subprocess.check_output(\"netstat -vatn\", shell=True))):\n",
        "        print(\"Port {} is closed, retrying...\".format(port))\n",
        "        time.sleep(2)\n",
        "\n",
        "    # run ngrok\n",
        "    os.system(\"wget https://bin.equinox.io/c/4VmDzA7iaHb/ngrok-stable-linux-amd64.zip\")\n",
        "    os.system(\"unzip ngrok-stable-linux-amd64.zip\")\n",
        "    os.system(\"./ngrok http {0} &\".format(port))\n",
        "    public_url = _get_ngrok_tunnel()\n",
        "    _warmup_ngrok_tunnel(public_url)\n",
        "\n",
        "    print(\"Open {0} to access your {1} port\".format(public_url, port))"
      ],
      "execution_count": 0,
      "outputs": []
    },
    {
      "cell_type": "code",
      "metadata": {
        "id": "xL92rtVjDjta",
        "colab_type": "code",
        "colab": {}
      },
      "source": [
        "%cd /content/drive/My\\ Drive/my-project/workspace/training_faster_rcnn"
      ],
      "execution_count": 0,
      "outputs": []
    },
    {
      "cell_type": "code",
      "metadata": {
        "id": "hb2CDQl8eE8F",
        "colab_type": "code",
        "colab": {}
      },
      "source": [
        "import os\n",
        "os.system(\"tensorboard --logdir=training/ --host 0.0.0.0 --port 5007 &\")\n",
        "expose_port_on_colab(5007)"
      ],
      "execution_count": 0,
      "outputs": []
    },
    {
      "cell_type": "markdown",
      "metadata": {
        "id": "k-L0b3xvYB89",
        "colab_type": "text"
      },
      "source": [
        "# Exportation d'un graphique d'inférence formé  Exporter le graphique d'inférence"
      ]
    },
    {
      "cell_type": "code",
      "metadata": {
        "id": "GA5kajzJYNGZ",
        "colab_type": "code",
        "colab": {}
      },
      "source": [
        "%cd /content/drive/My\\ Drive/my-project/workspace/training_faster_rcnn"
      ],
      "execution_count": 0,
      "outputs": []
    },
    {
      "cell_type": "code",
      "metadata": {
        "id": "qD38_UWdX7ui",
        "colab_type": "code",
        "colab": {}
      },
      "source": [
        "!python export_inference_graph.py --input_type image_tensor --pipeline_config_path training/faster_rcnn_inception_v2_pets.config --trained_checkpoint_prefix training/model.ckpt-200000 --output_directory trained-inference-graphs/output_inference_graph_v1.pb"
      ],
      "execution_count": 0,
      "outputs": []
    },
    {
      "cell_type": "markdown",
      "metadata": {
        "id": "ZBeNRXbtco_O",
        "colab_type": "text"
      },
      "source": [
        ""
      ]
    },
    {
      "cell_type": "code",
      "metadata": {
        "id": "42niOGYZhxrB",
        "colab_type": "code",
        "colab": {}
      },
      "source": [
        "# Import packages\n",
        "import os\n",
        "import cv2\n",
        "import numpy as np\n",
        "import tensorflow as tf\n",
        "import sys"
      ],
      "execution_count": 0,
      "outputs": []
    },
    {
      "cell_type": "code",
      "metadata": {
        "id": "TKstKp60eM6T",
        "colab_type": "code",
        "colab": {}
      },
      "source": [
        "from object_detection.utils import label_map_util\n",
        "from object_detection.utils import visualization_utils as vis_util"
      ],
      "execution_count": 0,
      "outputs": []
    },
    {
      "cell_type": "code",
      "metadata": {
        "id": "xFAJgEUgcoL7",
        "colab_type": "code",
        "colab": {}
      },
      "source": [
        "# Path to frozen detection graph .pb file, which contains the model that is used\n",
        "PATH_TO_CKPT = '/content/drive/My Drive/my-project/workspace/training_faster_rcnn/trained-inference-graphs/output_inference_graph_v1.pb/frozen_inference_graph.pb'\n",
        "\n",
        "# Path to label map file\n",
        "PATH_TO_LABELS = '/content/drive/My Drive/my-project/workspace/training_faster_rcnn/training/label_map.pbtxt'\n",
        "\n",
        "# Path to image\n",
        "PATH_TO_IMAGE ='/content/drive/My Drive/my-project/workspace/training_faster_rcnn/images/LMD09443-SLA-5-_Z-1.jpg'\n"
      ],
      "execution_count": 0,
      "outputs": []
    },
    {
      "cell_type": "code",
      "metadata": {
        "id": "r8o4kByKetL0",
        "colab_type": "code",
        "colab": {}
      },
      "source": [
        "# Load the label map.\n",
        "category_index = label_map_util.create_category_index_from_labelmap(PATH_TO_LABELS, use_display_name=True)"
      ],
      "execution_count": 0,
      "outputs": []
    },
    {
      "cell_type": "code",
      "metadata": {
        "id": "0tNglgcnhkss",
        "colab_type": "code",
        "colab": {}
      },
      "source": [
        "# Load the Tensorflow model into memory.\n",
        "detection_graph = tf.Graph()\n",
        "with detection_graph.as_default():\n",
        "    od_graph_def = tf.GraphDef()\n",
        "    with tf.gfile.GFile(PATH_TO_CKPT, 'rb') as fid:\n",
        "        serialized_graph = fid.read()\n",
        "        od_graph_def.ParseFromString(serialized_graph)\n",
        "        tf.import_graph_def(od_graph_def, name='')\n",
        "\n",
        "    sess = tf.Session(graph=detection_graph)\n"
      ],
      "execution_count": 0,
      "outputs": []
    },
    {
      "cell_type": "code",
      "metadata": {
        "id": "7EpQreaDj-Lz",
        "colab_type": "code",
        "colab": {}
      },
      "source": [
        "# Define input and output tensors (i.e. data) for the object detection classifier\n",
        "\n",
        "# Input tensor is the image\n",
        "image_tensor = detection_graph.get_tensor_by_name('image_tensor:0')\n",
        "\n",
        "# Output tensors are the detection boxes, scores, and classes\n",
        "# Each box represents a part of the image where a particular object was detected\n",
        "detection_boxes = detection_graph.get_tensor_by_name('detection_boxes:0')\n",
        "\n",
        "# Each score represents level of confidence for each of the objects.\n",
        "# The score is shown on the result image, together with the class label.\n",
        "detection_scores = detection_graph.get_tensor_by_name('detection_scores:0')\n",
        "detection_classes = detection_graph.get_tensor_by_name('detection_classes:0')\n",
        "\n",
        "# Number of objects detected\n",
        "num_detections = detection_graph.get_tensor_by_name('num_detections:0')"
      ],
      "execution_count": 0,
      "outputs": []
    },
    {
      "cell_type": "code",
      "metadata": {
        "id": "-TCIbWwikFey",
        "colab_type": "code",
        "colab": {}
      },
      "source": [
        "# Load image using OpenCV and\n",
        "# expand image dimensions to have shape: [1, None, None, 3]\n",
        "# i.e. a single-column array, where each item in the column has the pixel RGB value\n",
        "image = cv2.imread(PATH_TO_IMAGE)\n",
        "image_rgb = cv2.cvtColor(image, cv2.COLOR_BGR2RGB)\n",
        "image_expanded = np.expand_dims(image_rgb, axis=0)\n",
        "\n",
        "# Perform the actual detection by running the model with the image as input\n",
        "(boxes, scores, classes, num) = sess.run(\n",
        "    [detection_boxes, detection_scores, detection_classes, num_detections],\n",
        "    feed_dict={image_tensor: image_expanded})\n",
        "\n",
        "# Draw the results of the detection (aka 'visulaize the results')\n",
        "\n",
        "vis_util.visualize_boxes_and_labels_on_image_array(\n",
        "    image,\n",
        "    np.squeeze(boxes),\n",
        "    np.squeeze(classes).astype(np.int32),\n",
        "    np.squeeze(scores),\n",
        "    category_index,\n",
        "    use_normalized_coordinates=True,\n",
        "    line_thickness=8,\n",
        "    min_score_thresh=0.60)\n"
      ],
      "execution_count": 0,
      "outputs": []
    },
    {
      "cell_type": "code",
      "metadata": {
        "id": "eyNCaKxjkl2C",
        "colab_type": "code",
        "colab": {}
      },
      "source": [
        "display(Image.fromarray(image))"
      ],
      "execution_count": 0,
      "outputs": []
    },
    {
      "cell_type": "code",
      "metadata": {
        "id": "UCO3pbHKmPi-",
        "colab_type": "code",
        "colab": {}
      },
      "source": [
        "cv2.imwrite('/content/drive/My Drive/my-project/workspace/training_faster_rcnn/images/out-put.jpg', image)"
      ],
      "execution_count": 0,
      "outputs": []
    }
  ]
}